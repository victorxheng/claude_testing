


import backend
import json
import generate_page as page
initial_prompt = """
Generate YC’s Co-founder Matching website. It allows entrepreneurs to create a profile, and find the contact information of other entrepreneurs.
It should feature the following pages:
1. A home landing page advertising the Co-founder matching site, which allows the user to start creating an account using the built-in clerk authentication buttons, and shows marketing items advertising how many prestigious Stanford/MIT cofounders are on here. 
2. Next, after the user creates an account by entering their email, they are taken to a page where they create their own profile. They fill out their profile information, which includes the following: their name, a one liner on their background, a link to a linkedin profile (which is hidden from others until matched), and a checkbox on if they are a technical cofounder or not.
3. After their profile is created, they then can view other profiles and interact with them on the match page. Here, they scroll through a list of other user profiles who do not have a match yet. If they are interested, they can press a match button that sends them a match request as well as a short message.
4. Users can also view their match requests, and either approve or reject them. If a request is rejected, it is removed from the matches. If they approve, the request gets moved to a match section, where they can add the other person on linkedin using their linkedin link.
5. Users can also edit their profile as well. If they found a cofounder, they can mark their profile as matched, and they will be removed from the search.

Schema:
User: email, name, linkedin, description, technical / non technical, available / not available
Match: User from, User to, Accepted / rejected, request message, accept message

"""
schema_path = f'generated/schema.json'
schema_page_path= f'test/convex/schema.ts'
actions_path = 'generated/actions.json'
crud_path = 'generated/crud.ts'
backend_json = 'generated/backend.json'
backend_path = 'test/convex/backend.ts'
page_path = 'generated/page_schema.json'
test_path = 'test/app'
faker_path = 'test/convex/faker.ts'




backend.write_to_file(backend.create_schema_structure(initial_prompt), schema_path)


schema = backend.read(schema_path)
backend.write_to_file(backend.create_actions(f"Create it for the following structure: \n<applicationStructure>\n{schema}\n</applicationStructure>"), actions_path)


# entirely compiler
schema = json.loads(backend.read(schema_path))
# actions = backend.read(actions_path)
# schema_page = backend.create_schema(schema, schema_page_path)
# crud_page = backend.create_crud(schema, crud_path)
# actions_code = backend.create_actions_code(actions, schema_page, crud_page, backend_json)
# actions_page = backend.create_actions_page(json.loads(actions), json.loads(actions_code),crud_page, backend_path)


faker_data = backend.create_faker_data_code(schema, faker_path)


# creating the page structure
schema = backend.read(schema_path)
actions = backend.read(actions_path)
backend.write_to_file(backend.create_page_structure("Task: " + initial_prompt + "\n\nHere is the database schema for the avaiable database objects you are to use: \n<Schemas>\n" + str(schema) + "\n</Schemas>\n\n Here are the backend queries and mutations that you can call: \n<backend>" + str(actions) + "\n</backend>\n\nNow, generate the page layout strictly in the json format described above." ), page_path)


# alternative way to make page structure: simplified version
page.write(page_path, page.generate_component_list(schema_path, actions_path))


# generate all the parts
pages = json.loads(backend.read(page_path))["pages"]
# page.generate_pages(test_path, pages, schema_path, actions_path)
# page.generate_page(test_path, pages, pages[4], schema_path, actions_path, 0)


project = page.Project(test_path, pages, schema_path, actions_path)
project.print_pages_menu()


project.print_page_menu(3)


# project.edit_page(1, "")
project.edit_component(3, 2, "If there are no outgoing requests, indicate that there are no outgoing requests") 


project.add_to_knowledge_base(2, 2)
