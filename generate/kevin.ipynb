{
 "cells": [
  {
   "cell_type": "code",
   "execution_count": 1,
   "metadata": {},
   "outputs": [],
   "source": [
    "# hidden\n",
    "import backend\n",
    "import json\n",
    "import generate_page as page\n",
    "\n",
    "schema_path = f'generated/schema.json'\n",
    "schema_page_path= f'test/convex/schema.ts'\n",
    "actions_path = 'generated/actions.json'\n",
    "crud_path = 'generated/crud.ts'\n",
    "backend_json = 'generated/backend.json'\n",
    "backend_path = 'test/convex/backend.ts'\n",
    "page_path = 'generated/page_schema.json'\n",
    "test_path = 'test/app'\n",
    "faker_path = 'test/convex/faker.ts'\n",
    "\n",
    "def plan_database(specification):\n",
    "    backend.write_to_file(backend.create_schema_structure(specification), schema_path)\n",
    "\n",
    "def plan_backend():\n",
    "    schema = backend.read(schema_path)\n",
    "    backend.write_to_file(backend.create_actions(f\"Create it for the following structure: \\n<applicationStructure>\\n{schema}\\n</applicationStructure>\"), actions_path)\n",
    "\n",
    "def create_backend():\n",
    "    schema = json.loads(backend.read(schema_path))\n",
    "    actions = backend.read(actions_path)\n",
    "    schema_page = backend.create_schema(schema, schema_page_path)\n",
    "    crud_page = backend.create_crud(schema, crud_path)\n",
    "    actions_code = backend.create_actions_code(actions, schema_page, crud_page, backend_json)\n",
    "    actions_page = backend.create_actions_page(json.loads(actions), json.loads(actions_code),crud_page, backend_path)\n",
    "\n",
    "def plan_styles():\n",
    "    styles = input(\"Input styling specifications\")\n",
    "    page.extract_ui_styles(styles)\n",
    "    return\n",
    "\n",
    "def create_fake_data():\n",
    "    schema = json.loads(backend.read(schema_path))\n",
    "    faker_data = backend.create_faker_data_code(schema, faker_path)\n",
    "\n",
    "def plan_pages(specification):\n",
    "    schema = backend.read(schema_path)\n",
    "    actions = backend.read(actions_path)\n",
    "    backend.write_to_file(backend.create_page_structure(\"Task: \" + specification + \"\\n\\nHere is the database schema for the avaiable database objects you are to use: \\n<Schemas>\\n\" + str(schema) + \"\\n</Schemas>\\n\\n Here are the backend queries and mutations that you can call: \\n<backend>\" + str(actions) + \"\\n</backend>\\n\\nNow, generate the page layout strictly in the json format described above.\" ), page_path)\n",
    "\n",
    "def plan_all_pages():\n",
    "    page.write(page_path, page.generate_component_list(schema_path, actions_path))\n",
    "\n",
    "def generate_pages():\n",
    "    pages = json.loads(backend.read(page_path))[\"pages\"]\n",
    "    page.generate_pages(test_path, pages, schema_path, actions_path)\n",
    "    # page.generate_page(test_path, pages, pages[4], schema_path, actions_path, 0)\n",
    "\n",
    "def edit( page,  component,  prompt):\n",
    "    pages = json.loads(backend.read(page_path))[\"pages\"]\n",
    "    project = page.Project(test_path, pages, schema_path, actions_path)\n",
    "    project.edit_component(3, 2, \"If there are no outgoing requests, indicate that there are no outgoing requests\") \n",
    "\n",
    "def edit( prompt):\n",
    "    pages = json.loads(backend.read(page_path))[\"pages\"]\n",
    "    project = page.Project(test_path, pages, schema_path, actions_path)\n",
    "    project.edit_component(3, 3, prompt) \n",
    "\n",
    "def add_knowledge():\n",
    "    pages = json.loads(backend.read(page_path))[\"pages\"]\n",
    "    project = page.Project(test_path, pages, schema_path, actions_path)\n",
    "    project.add_to_knowledge_base(3, 3)\n"
   ]
  },
  {
   "cell_type": "code",
   "execution_count": 6,
   "metadata": {},
   "outputs": [
    {
     "name": "stdout",
     "output_type": "stream",
     "text": [
      "Writing the ProfileForm component... (enter)\n",
      "Here are the changes to make to the ProfileForm component:\n",
      "\n",
      "<replace start=0 end=9>\n",
      "'use client'\n",
      "import { useMutation, useQuery } from 'convex/react'\n",
      "import { Doc, Id } from \"@/convex/_generated/dataModel\";\n",
      "import { api } from \"@/convex/_generated/api\";\n",
      "import { Field, Label } from '@/components/fieldset'\n",
      "import { Input } from '@/components/input'\n",
      "import { Textarea } from '@/components/textarea'\n",
      "import { Checkbox, CheckboxField } from '@/components/checkbox'\n",
      "import { Button } from '@/components/button'\n",
      "\n",
      "interface Props {\n",
      "  userId: Id<\"users\">;\n",
      "}\n",
      "\n",
      "export default ({ userId }: Props) => {\n",
      "  const user = useQuery(api.backend.getUserProfile, userId ? { userId } : 'skip') as Doc<\"users\">;\n",
      "  const updateProfile = useMutation(api.backend.updateUserProfile);\n",
      "\n",
      "  const handleSubmit = async (event: React.FormEvent<HTMLFormElement>) => {\n",
      "    event.preventDefault();\n",
      "    const formData = new FormData(event.currentTarget);\n",
      "    const name = formData.get('name') as string;\n",
      "    const linkedin = formData.get('linkedin') as string;\n",
      "    const description = formData.get('description') as string;\n",
      "    const isTechnical = formData.get('isTechnical') === 'on';\n",
      "    const isAvailable = formData.get('isAvailable') === 'on';\n",
      "    \n",
      "    await updateProfile({ userId, name, linkedin, description, isTechnical, isAvailable });\n",
      "  }\n",
      "\n",
      "  if (!user) {\n",
      "    return <div>Loading...</div>;\n",
      "  }\n",
      "\n",
      "  return (\n",
      "    <form onSubmit={handleSubmit}>\n",
      "      <Field>\n",
      "        <Label>Name</Label>\n",
      "        <Input name=\"name\" defaultValue={user.name} />\n",
      "      </Field>\n",
      "      <Field>\n",
      "        <Label>LinkedIn URL</Label>\n",
      "        <Input name=\"linkedin\" type=\"url\" defaultValue={user.linkedin} />\n",
      "      </Field>\n",
      "      <Field>\n",
      "        <Label>Description</Label>\n",
      "        <Textarea name=\"description\" defaultValue={user.description} />\n",
      "      </Field>\n",
      "      <CheckboxField>\n",
      "        <Checkbox name=\"isTechnical\" defaultChecked={user.isTechnical} />\n",
      "        <Label>I am a technical co-founder</Label>\n",
      "      </CheckboxField>\n",
      "      <CheckboxField>\n",
      "        <Checkbox name=\"isAvailable\" defaultChecked={user.isAvailable} />\n",
      "        <Label>I am available and looking for a co-founder</Label>\n",
      "      </CheckboxField>\n",
      "      <Button type=\"submit\">Update Profile</Button>\n",
      "    </form>\n",
      "  );\n",
      "};\n",
      "</replace>\n",
      "Writing the page.tsx... (enter)\n",
      "Here is the edited EditProfile page using the available components:\n",
      "\n",
      "<replace start=0 end=9>\n",
      "'use client';\n",
      "import { api } from \"@/convex/_generated/api\";\n",
      "import useStoreUserEffect from \"@/app/useStoreUserEffect\";\n",
      "import { useQuery, useMutation } from \"convex/react\";\n",
      "import Header from \"@/components/Header\";\n",
      "import ProfileForm from \"@/components/ProfileForm\";\n",
      "\n",
      "export default () => {\n",
      "  const userId = useStoreUserEffect();\n",
      "\n",
      "  return (\n",
      "    <main className=\"min-h-screen bg-white\">\n",
      "      <Header />\n",
      "      {userId && <ProfileForm userId={userId} />}\n",
      "    </main>\n",
      "  );\n",
      "};\n",
      "</replace>\n"
     ]
    }
   ],
   "source": [
    "\n",
    "pages = json.loads(backend.read(page_path))[\"pages\"]\n",
    "page.generate_page(test_path, pages, pages[4], schema_path, actions_path, 1)\n"
   ]
  },
  {
   "attachments": {
    "image.png": {
     "image/png": "[encoded data removed]"
    }
   },
   "cell_type": "markdown",
   "metadata": {},
   "source": [
    "# \n",
    "\n",
    "## vly.ai presents:\n",
    "\n",
    "# Kevin, your AI Enterprise Web Developer\n",
    "\n",
    "Creates custom business software for your specific use case on your data.\n",
    "\n",
    "Quality of a developer agency at 10x lower costs.\n",
    "\n",
    "\n",
    "## FEATURING...\n",
    "\n",
    "### <u>Enterprise auth and security </u>\n",
    "\n",
    "Full user management out of the box, secured by Clerk\n",
    "\n",
    "### <u>Realtime Instant Database </u>\n",
    "\n",
    "Caching, type safety, & third party integrations, on Convex servers.\n",
    "\n",
    "### <u> Lightning-fast React + Next.js Frontend </u>\n",
    "\n",
    "Builds clean custom styles, 70% faster than React with Million.js, \n",
    "\n",
    "### <u> Real-world applications and integrations </u>\n",
    "\n",
    "Connects with email, stripe, text, or other integrations used for real-world use.\n",
    "\n",
    "<br/>\n",
    "\n",
    "#### Visual of how it works\n",
    "\n",
    "![image.png](attachment:image.png)"
   ]
  },
  {
   "cell_type": "markdown",
   "metadata": {},
   "source": [
    "#### Interactive Process Below"
   ]
  },
  {
   "cell_type": "markdown",
   "metadata": {},
   "source": [
    "Add the enterprise specifications below for clients"
   ]
  },
  {
   "cell_type": "code",
   "execution_count": 2,
   "metadata": {},
   "outputs": [],
   "source": [
    "\n",
    "specification = \"\"\"\n",
    "​​Generate YC’s Co-founder Matching website. It allows entrepreneurs to create a profile, and find the contact information of other entrepreneurs.\n",
    "It should feature the following pages:\n",
    "1. A home landing page advertising the Co-founder matching site, which allows the user to start creating an account using the built-in clerk authentication buttons, and shows marketing items advertising how many prestigious Stanford/MIT cofounders are on here. \n",
    "2. Next, after the user creates an account by entering their email, they are taken to a page where they create their own profile. They fill out their profile information, which includes the following: their name, a one liner on their background, a link to a linkedin profile (which is hidden from others until matched), and a checkbox on if they are a technical cofounder or not.\n",
    "3. After their profile is created, they then can view other profiles and interact with them on the match page. Here, they scroll through a list of other user profiles who do not have a match yet. If they are interested, they can press a match button that sends them a match request as well as a short message.\n",
    "4. Users can also view their match requests, and either approve or reject them. If a request is rejected, it is removed from the matches. If they approve, the request gets moved to a match section, where they can add the other person on linkedin using their linkedin link.\n",
    "5. Users can also edit their profile as well. If they found a cofounder, they can mark their profile as matched, and they will be removed from the search.\n",
    "\"\"\""
   ]
  },
  {
   "cell_type": "markdown",
   "metadata": {},
   "source": [
    "Add a style specification"
   ]
  },
  {
   "cell_type": "code",
   "execution_count": null,
   "metadata": {},
   "outputs": [],
   "source": [
    "plan_styles()"
   ]
  },
  {
   "cell_type": "markdown",
   "metadata": {},
   "source": [
    "Plan the database tables based on this specification"
   ]
  },
  {
   "cell_type": "code",
   "execution_count": null,
   "metadata": {},
   "outputs": [],
   "source": [
    "plan_database(specification)"
   ]
  },
  {
   "cell_type": "markdown",
   "metadata": {},
   "source": [
    "Plan the backend server functions"
   ]
  },
  {
   "cell_type": "code",
   "execution_count": null,
   "metadata": {},
   "outputs": [],
   "source": [
    "plan_backend()"
   ]
  },
  {
   "cell_type": "markdown",
   "metadata": {},
   "source": [
    "AI codes the backend"
   ]
  },
  {
   "cell_type": "code",
   "execution_count": null,
   "metadata": {},
   "outputs": [],
   "source": [
    "create_backend()"
   ]
  },
  {
   "cell_type": "markdown",
   "metadata": {},
   "source": [
    "The pages are then planned based on specifications and the backend"
   ]
  },
  {
   "cell_type": "code",
   "execution_count": null,
   "metadata": {},
   "outputs": [],
   "source": [
    "plan_all_pages()"
   ]
  },
  {
   "cell_type": "markdown",
   "metadata": {},
   "source": [
    "The iterative process begins"
   ]
  },
  {
   "cell_type": "code",
   "execution_count": null,
   "metadata": {},
   "outputs": [],
   "source": [
    "generate_pages()"
   ]
  },
  {
   "cell_type": "markdown",
   "metadata": {},
   "source": [
    "Creates fake data to test the code"
   ]
  },
  {
   "cell_type": "code",
   "execution_count": null,
   "metadata": {},
   "outputs": [],
   "source": [
    "create_fake_data()"
   ]
  },
  {
   "cell_type": "markdown",
   "metadata": {},
   "source": [
    "### Helpers\n",
    "\n",
    "For post-generation editing of exisitng code"
   ]
  },
  {
   "cell_type": "code",
   "execution_count": null,
   "metadata": {},
   "outputs": [],
   "source": [
    "edit(\"In incoming match requests, allow for the user to send a message with their acceptance. do not send a message with rejection\")"
   ]
  },
  {
   "cell_type": "markdown",
   "metadata": {},
   "source": [
    "For adding generated code to the knowledge base"
   ]
  },
  {
   "cell_type": "code",
   "execution_count": 10,
   "metadata": {},
   "outputs": [],
   "source": [
    "add_knowledge()"
   ]
  }
 ],
 "metadata": {
  "kernelspec": {
   "display_name": "Python 3 (ipykernel)",
   "language": "python",
   "name": "python3"
  },
  "language_info": {
   "codemirror_mode": {
    "name": "ipython",
    "version": 3
   },
   "file_extension": ".py",
   "mimetype": "text/x-python",
   "name": "python",
   "nbconvert_exporter": "python",
   "pygments_lexer": "ipython3",
   "version": "3.10.9"
  }
 },
 "nbformat": 4,
 "nbformat_minor": 4
}
