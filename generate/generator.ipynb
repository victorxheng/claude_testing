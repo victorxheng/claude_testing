{
 "cells": [
  {
   "cell_type": "code",
   "execution_count": 1,
   "metadata": {},
   "outputs": [],
   "source": [
    "import backend\n",
    "import json\n",
    "initial_prompt = \"Create a schema for a very simple twitter application\"\n",
    "schema_path = f'generated/schema.json'\n",
    "schema_page_path= f'test/convex/schema.ts'\n",
    "actions_path = 'generated/actions.json'\n",
    "crud_path = 'generated/crud.ts'\n",
    "backend_json = 'generated/backend.json'\n",
    "backend_path = 'test/convex/backend.ts'\n",
    "page_path = 'generated/page_schema.json'\n"
   ]
  },
  {
   "cell_type": "code",
   "execution_count": null,
   "metadata": {},
   "outputs": [],
   "source": [
    "backend.write_to_file(backend.create_schema_structure(initial_prompt), schema_path)"
   ]
  },
  {
   "cell_type": "code",
   "execution_count": null,
   "metadata": {},
   "outputs": [],
   "source": [
    "schema = backend.read(schema_path)\n",
    "backend.write_to_file(backend.create_actions(f\"Create it for the following structure: \\n<applicationStructure>\\n{schema}\\n</applicationStructure>\"), actions_path)"
   ]
  },
  {
   "cell_type": "code",
   "execution_count": 2,
   "metadata": {},
   "outputs": [
    {
     "name": "stdout",
     "output_type": "stream",
     "text": [
      "Here is the code for the specified actions in the requested JSON schema format:\n",
      "\n",
      "<jsonSchema>\n",
      "{\n",
      "  \"getUserProfile\": \"const user = await getManyUsers(d, (user) => user.username == args.username).unique();\\nreturn user;\",\n",
      "  \"getUserTweets\": \"const tweets = await getManyTweets(d, (tweet) => tweet.userId == args.userId).collect();\\nreturn tweets;\",\n",
      "  \"getFollowing\": \"const follows = await getManyFollows(d, (follow) => follow.followerId == args.userId).collect();\\nconst followedUserIds = follows.map(follow => follow.followedId);\\nconst followedUsers = await Promise.all(followedUserIds.map(userId => getOneUsers(d, userId)));\\nreturn followedUsers;\",\n",
      "  \"getFollowers\": \"const follows = await getManyFollows(d, (follow) => follow.followedId == args.userId).collect();\\nconst followerUserIds = follows.map(follow => follow.followerId);\\nconst followerUsers = await Promise.all(followerUserIds.map(userId => getOneUsers(d, userId)));\\nreturn followerUsers;\",\n",
      "  \"postTweet\": \"const tweetId = await createOneTweets(d, {userId: user._id, text: args.text});\\nconst tweet = await getOneTweets(d, tweetId);\\nreturn tweet;\",\n",
      "  \"followUser\": \"const followId = await createOneFollows(d, {followerId: user._id, followedId: args.userId});\\nconst follow = await getOneFollows(d, followId);\\nreturn follow;\",\n",
      "  \"unfollowUser\": \"const follow = await getManyFollows(d, (follow) => follow.followerId == user._id && follow.followedId == args.userId).unique();\\nawait deleteOneFollows(d, follow._id);\\nreturn follow;\"\n",
      "}\n",
      "</jsonSchema>\n"
     ]
    }
   ],
   "source": [
    "# entirely compiler\n",
    "schema = json.loads(backend.read(schema_path))\n",
    "actions = backend.read(actions_path)\n",
    "schema_page = backend.create_schema(schema, schema_page_path)\n",
    "crud_page = backend.create_crud(schema, crud_path)\n",
    "# faker_data = backend.create_faker_data_code(schema, 'generated/faker.ts')\n",
    "actions_code = backend.create_actions_code(actions, schema_page, crud_page, backend_json)\n",
    "actions_page = backend.create_actions_page(json.loads(actions), json.loads(actions_code),crud_page, backend_path)"
   ]
  },
  {
   "cell_type": "code",
   "execution_count": null,
   "metadata": {},
   "outputs": [],
   "source": []
  },
  {
   "cell_type": "code",
   "execution_count": null,
   "metadata": {},
   "outputs": [],
   "source": [
    "# creating the page structure\n",
    "schema = backend.read(schema_path)\n",
    "actions = backend.read(actions_path)\n",
    "backend.write_to_file(backend.create_page_structure(\"Task: \" + initial_prompt + \"\\n\\nHere is the database schema for the avaiable database objects you are to use: \\n<Schemas>\\n\" + str(schema) + \"\\n</Schemas>\\n\\n Here are the backend queries and mutations that you can call: \\n<backend>\" + str(actions) + \"\\n</backend>\\n\\nNow, generate the page layout strictly in the json format described above.\" ), page_path)"
   ]
  }
 ],
 "metadata": {
  "kernelspec": {
   "display_name": "Python 3",
   "language": "python",
   "name": "python3"
  },
  "language_info": {
   "codemirror_mode": {
    "name": "ipython",
    "version": 3
   },
   "file_extension": ".py",
   "mimetype": "text/x-python",
   "name": "python",
   "nbconvert_exporter": "python",
   "pygments_lexer": "ipython3",
   "version": "3.10.9"
  }
 },
 "nbformat": 4,
 "nbformat_minor": 2
}
