{
 "cells": [
  {
   "cell_type": "code",
   "execution_count": 1,
   "metadata": {},
   "outputs": [],
   "source": [
    "import backend\n",
    "import json\n",
    "import generate_page as page\n",
    "initial_prompt = \"Create a schema for a very simple twitter application\"\n",
    "schema_path = f'generated/schema.json'\n",
    "schema_page_path= f'test/convex/schema.ts'\n",
    "actions_path = 'generated/actions.json'\n",
    "crud_path = 'generated/crud.ts'\n",
    "backend_json = 'generated/backend.json'\n",
    "backend_path = 'test/convex/backend.ts'\n",
    "page_path = 'generated/page_schema.json'\n"
   ]
  },
  {
   "cell_type": "code",
   "execution_count": null,
   "metadata": {},
   "outputs": [],
   "source": [
    "backend.write_to_file(backend.create_schema_structure(initial_prompt), schema_path)"
   ]
  },
  {
   "cell_type": "code",
   "execution_count": null,
   "metadata": {},
   "outputs": [],
   "source": [
    "schema = backend.read(schema_path)\n",
    "backend.write_to_file(backend.create_actions(f\"Create it for the following structure: \\n<applicationStructure>\\n{schema}\\n</applicationStructure>\"), actions_path)"
   ]
  },
  {
   "cell_type": "code",
   "execution_count": null,
   "metadata": {},
   "outputs": [],
   "source": [
    "# entirely compiler\n",
    "schema = json.loads(backend.read(schema_path))\n",
    "actions = backend.read(actions_path)\n",
    "schema_page = backend.create_schema(schema, schema_page_path)\n",
    "crud_page = backend.create_crud(schema, crud_path)\n",
    "# faker_data = backend.create_faker_data_code(schema, 'generated/faker.ts')\n",
    "actions_code = backend.create_actions_code(actions, schema_page, crud_page, backend_json)\n",
    "actions_page = backend.create_actions_page(json.loads(actions), json.loads(actions_code),crud_page, backend_path)"
   ]
  },
  {
   "cell_type": "code",
   "execution_count": null,
   "metadata": {},
   "outputs": [],
   "source": [
    "# creating the page structure\n",
    "schema = backend.read(schema_path)\n",
    "actions = backend.read(actions_path)\n",
    "backend.write_to_file(backend.create_page_structure(\"Task: \" + initial_prompt + \"\\n\\nHere is the database schema for the avaiable database objects you are to use: \\n<Schemas>\\n\" + str(schema) + \"\\n</Schemas>\\n\\n Here are the backend queries and mutations that you can call: \\n<backend>\" + str(actions) + \"\\n</backend>\\n\\nNow, generate the page layout strictly in the json format described above.\" ), page_path)"
   ]
  },
  {
   "cell_type": "code",
   "execution_count": 4,
   "metadata": {},
   "outputs": [
    {
     "name": "stdout",
     "output_type": "stream",
     "text": [
      "[\n",
      "  {\n",
      "    \"url\": \"/\",\n",
      "    \"title\": \"Home\",\n",
      "    \"description\": \"The main timeline page showing tweets from users the logged-in user is following\"\n",
      "  },\n",
      "  {\n",
      "    \"url\": \"/login\",\n",
      "    \"title\": \"Login\",\n",
      "    \"description\": \"The login page for users to sign in to their account\"\n",
      "  },\n",
      "  {\n",
      "    \"url\": \"/register\",\n",
      "    \"title\": \"Register\",\n",
      "    \"description\": \"The registration page for new users to create an account\"\n",
      "  },\n",
      "  {\n",
      "    \"url\": \"/profile/[username]\",\n",
      "    \"title\": \"UserProfile\",\n",
      "    \"description\": \"A user's profile page showing their bio, tweets, followers, and users they are following\"\n",
      "  },\n",
      "  {\n",
      "    \"url\": \"/compose\",\n",
      "    \"title\": \"ComposeTweet\",\n",
      "    \"description\": \"A page for the logged-in user to compose and post a new tweet\"\n",
      "  }\n",
      "]\n",
      "{\n",
      "  \"pages\": [\n",
      "    {\n",
      "      \"url\": \"/\",\n",
      "      \"title\": \"Home\",\n",
      "      \"description\": \"The main timeline page showing tweets from users the logged-in user is following\",\n",
      "      \"components\": [\n",
      "        {\n",
      "          \"name\": \"Navbar\",\n",
      "          \"description\": \"Navigation bar with links to other pages\"\n",
      "        },\n",
      "        {\n",
      "          \"name\": \"TweetFeed\",\n",
      "          \"description\": \"Displays a feed of tweets from followed users\"\n",
      "        }\n",
      "      ]\n",
      "    },\n",
      "    {\n",
      "      \"url\": \"/login\",\n",
      "      \"title\": \"Login\",\n",
      "      \"description\": \"The login page for users to sign in to their account\",\n",
      "      \"components\": [\n",
      "        {\n",
      "          \"name\": \"Navbar\",\n",
      "          \"description\": \"Navigation bar with links to other pages\"\n",
      "        },\n",
      "        {\n",
      "          \"name\": \"LoginForm\",\n",
      "          \"description\": \"Form for users to enter their credentials and log in\"\n",
      "        }\n",
      "      ]\n",
      "    },\n",
      "    {\n",
      "      \"url\": \"/register\",\n",
      "      \"title\": \"Register\",\n",
      "      \"description\": \"The registration page for new users to create an account\",\n",
      "      \"components\": [\n",
      "        {\n",
      "          \"name\": \"Navbar\",\n",
      "          \"description\": \"Navigation bar with links to other pages\"\n",
      "        },\n",
      "        {\n",
      "          \"name\": \"RegistrationForm\",\n",
      "          \"description\": \"Form for new users to create an account\"\n",
      "        }\n",
      "      ]\n",
      "    },\n",
      "    {\n",
      "      \"url\": \"/profile/[username]\",\n",
      "      \"title\": \"UserProfile\",\n",
      "      \"description\": \"A user's profile page showing their bio, tweets, followers, and users they are following\",\n",
      "      \"components\": [\n",
      "        {\n",
      "          \"name\": \"Navbar\",\n",
      "          \"description\": \"Navigation bar with links to other pages\"\n",
      "        },\n",
      "        {\n",
      "          \"name\": \"UserProfileHeader\",\n",
      "          \"description\": \"Displays the user's profile picture, name, bio, and stats\"\n",
      "        },\n",
      "        {\n",
      "          \"name\": \"TweetFeed\",\n",
      "          \"description\": \"Displays a feed of the user's tweets\"\n",
      "        },\n",
      "        {\n",
      "          \"name\": \"FollowingList\",\n",
      "          \"description\": \"List of users the profile user is following\"\n",
      "        },\n",
      "        {\n",
      "          \"name\": \"FollowersList\",\n",
      "          \"description\": \"List of users following the profile user\"\n",
      "        }\n",
      "      ]\n",
      "    },\n",
      "    {\n",
      "      \"url\": \"/compose\",\n",
      "      \"title\": \"ComposeTweet\",\n",
      "      \"description\": \"A page for the logged-in user to compose and post a new tweet\",\n",
      "      \"components\": [\n",
      "        {\n",
      "          \"name\": \"Navbar\",\n",
      "          \"description\": \"Navigation bar with links to other pages\"\n",
      "        },\n",
      "        {\n",
      "          \"name\": \"TweetComposer\",\n",
      "          \"description\": \"Form for the user to enter and post a new tweet\"\n",
      "        }\n",
      "      ]\n",
      "    }\n",
      "  ]\n",
      "}\n"
     ]
    }
   ],
   "source": [
    "# alternative way to make page structure: simplified version\n",
    "page.write(page_path, page.generate_component_list(schema_path, actions_path))"
   ]
  },
  {
   "cell_type": "code",
   "execution_count": 6,
   "metadata": {},
   "outputs": [
    {
     "name": "stdout",
     "output_type": "stream",
     "text": [
      "Writing the Navbar component... (enter)\n",
      "Here is the edited file for the Navbar component of the Home"
     ]
    }
   ],
   "source": [
    "# generate single page\n",
    "pages = json.loads(backend.read(page_path))[\"pages\"]\n",
    "page.generate_page(pages, pages[0], schema_path, actions_path)"
   ]
  }
 ],
 "metadata": {
  "kernelspec": {
   "display_name": "Python 3",
   "language": "python",
   "name": "python3"
  },
  "language_info": {
   "codemirror_mode": {
    "name": "ipython",
    "version": 3
   },
   "file_extension": ".py",
   "mimetype": "text/x-python",
   "name": "python",
   "nbconvert_exporter": "python",
   "pygments_lexer": "ipython3",
   "version": "3.10.9"
  }
 },
 "nbformat": 4,
 "nbformat_minor": 2
}
