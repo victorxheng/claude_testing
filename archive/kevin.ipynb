{
 "cells": [
  {
   "cell_type": "code",
   "execution_count": 5,
   "metadata": {},
   "outputs": [
    {
     "data": {
      "application/vnd.jupyter.widget-view+json": {
       "model_id": "20492d60f0ed4c9db422bd924e96a722",
       "version_major": 2,
       "version_minor": 0
      },
      "text/plain": [
       "Button(description='Test Button', style=ButtonStyle())"
      ]
     },
     "metadata": {},
     "output_type": "display_data"
    },
    {
     "name": "stdout",
     "output_type": "stream",
     "text": [
      "button has been clicked!\n"
     ]
    }
   ],
   "source": [
    "# hidden\n",
    "import backend\n",
    "import json\n",
    "import generate_page as page\n",
    "import ipywidgets as widgets \n",
    "\n",
    "\n",
    "schema_path = f'generated/schema.json'\n",
    "schema_page_path= f'test/convex/schema.ts'\n",
    "actions_path = 'generated/actions.json'\n",
    "crud_path = 'generated/crud.ts'\n",
    "backend_json = 'generated/backend.json'\n",
    "backend_path = 'test/convex/backend.ts'\n",
    "page_path = 'generated/page_schema.json'\n",
    "test_path = 'test/app'\n",
    "faker_path = 'test/convex/faker.ts'\n",
    "\n",
    "def plan_database(specification):\n",
    "    backend.write_to_file(backend.create_schema_structure(specification), schema_path)\n",
    "\n",
    "def plan_backend():\n",
    "    schema = backend.read(schema_path)\n",
    "    backend.write_to_file(backend.create_actions(f\"Create it for the following structure: \\n<applicationStructure>\\n{schema}\\n</applicationStructure>\"), actions_path)\n",
    "\n",
    "def create_backend():\n",
    "    schema = json.loads(backend.read(schema_path))\n",
    "    actions = backend.read(actions_path)\n",
    "    schema_page = backend.create_schema(schema, schema_page_path)\n",
    "    crud_page = backend.create_crud(schema, crud_path)\n",
    "    actions_code = backend.create_actions_code(actions, schema_page, crud_page, backend_json)\n",
    "    actions_page = backend.create_actions_page(json.loads(actions), json.loads(actions_code),crud_page, backend_path)\n",
    "\n",
    "def create_fake_data():\n",
    "    schema = json.loads(backend.read(schema_path))\n",
    "    faker_data = backend.create_faker_data_code(schema, faker_path)\n",
    "\n",
    "def plan_pages(specification):\n",
    "    schema = backend.read(schema_path)\n",
    "    actions = backend.read(actions_path)\n",
    "    backend.write_to_file(backend.create_page_structure(\"Task: \" + specification + \"\\n\\nHere is the database schema for the avaiable database objects you are to use: \\n<Schemas>\\n\" + str(schema) + \"\\n</Schemas>\\n\\n Here are the backend queries and mutations that you can call: \\n<backend>\" + str(actions) + \"\\n</backend>\\n\\nNow, generate the page layout strictly in the json format described above.\" ), page_path)\n",
    "\n",
    "def plan_all_pages():\n",
    "    page.write(page_path, page.generate_component_list(schema_path, actions_path))\n",
    "\n",
    "def generate_pages():\n",
    "    pages = json.loads(backend.read(page_path))[\"pages\"]\n",
    "    page.generate_pages(test_path, pages, schema_path, actions_path)\n",
    "    # page.generate_page(test_path, pages, pages[4], schema_path, actions_path, 0)"
   ]
  },
  {
   "cell_type": "markdown",
   "metadata": {},
   "source": [
    "# \n",
    "\n",
    "## vly.ai presents:\n",
    "\n",
    "# Kevin, your AI Enterprise Web Developer\n",
    "\n",
    "Creates custom business software for your specific use case on your data.\n",
    "\n",
    "Quality of a developer agency at 10x lower costs.\n",
    "\n",
    "\n",
    "## FEATURING...\n",
    "\n",
    "### <u>Enterprise auth and security </u>\n",
    "\n",
    "Full user management out of the box, secured by Clerk\n",
    "\n",
    "### <u>Realtime Instant Database </u>\n",
    "\n",
    "Caching, type safety, & third party integrations, on Convex servers.\n",
    "\n",
    "### <u> Lightning-fast React + Next.js Frontend </u>\n",
    "\n",
    "Builds clean custom styles, 70% faster than React with Million.js, \n",
    "\n",
    "### <u> Real-world applications and integrations </u>\n",
    "\n",
    "Connects with email, stripe, text, or other integrations used for real-world use.\n"
   ]
  },
  {
   "cell_type": "markdown",
   "metadata": {},
   "source": [
    "#### Visualization Below"
   ]
  },
  {
   "cell_type": "markdown",
   "metadata": {},
   "source": [
    "Add the enterprise specifications below for clients"
   ]
  },
  {
   "cell_type": "code",
   "execution_count": 3,
   "metadata": {},
   "outputs": [],
   "source": [
    "\n",
    "specification = \"\"\"\n",
    "Generate YC’s Co-founder Matching website. It allows entrepreneurs to create a profile, and find the contact information of other entrepreneurs.\n",
    "It should feature the following pages:\n",
    "1. A home landing page advertising the Co-founder matching site, which allows the user to start creating an account using the built-in clerk authentication buttons, and shows marketing items advertising how many prestigious Stanford/MIT cofounders are on here. \n",
    "2. Next, after the user creates an account by entering their email, they are taken to a page where they create their own profile. They fill out their profile information, which includes the following: their name, a one liner on their background, a link to a linkedin profile (which is hidden from others until matched), and a checkbox on if they are a technical cofounder or not.\n",
    "3. After their profile is created, they then can view other profiles and interact with them on the match page. Here, they scroll through a list of other user profiles who do not have a match yet. If they are interested, they can press a match button that sends them a match request as well as a short message.\n",
    "4. Users can also view their match requests, and either approve or reject them. If a request is rejected, it is removed from the matches. If they approve, the request gets moved to a match section, where they can add the other person on linkedin using their linkedin link.\n",
    "5. Users can also edit their profile as well. If they found a cofounder, they can mark their profile as matched, and they will be removed from the search.\n",
    "\n",
    "Schema:\n",
    "User: email, name, linkedin, description, technical / non technical, available / not available\n",
    "Match: User from, User to, Accepted / rejected, request message, accept message\n",
    "\n",
    "\"\"\""
   ]
  },
  {
   "cell_type": "markdown",
   "metadata": {},
   "source": [
    "Plan the database tables based on this specification"
   ]
  },
  {
   "cell_type": "code",
   "execution_count": null,
   "metadata": {},
   "outputs": [],
   "source": [
    "plan_database(specification)"
   ]
  },
  {
   "cell_type": "markdown",
   "metadata": {},
   "source": [
    "Plan the backend server functions"
   ]
  },
  {
   "cell_type": "code",
   "execution_count": null,
   "metadata": {},
   "outputs": [],
   "source": [
    "plan_backend()"
   ]
  },
  {
   "cell_type": "code",
   "execution_count": 3,
   "metadata": {},
   "outputs": [],
   "source": [
    "create_backend()"
   ]
  },
  {
   "cell_type": "code",
   "execution_count": null,
   "metadata": {},
   "outputs": [],
   "source": [
    "create_fake_data()"
   ]
  },
  {
   "cell_type": "code",
   "execution_count": null,
   "metadata": {},
   "outputs": [],
   "source": [
    "plan_all_pages()"
   ]
  },
  {
   "cell_type": "code",
   "execution_count": 3,
   "metadata": {},
   "outputs": [],
   "source": [
    "generate_pages()"
   ]
  },
  {
   "cell_type": "code",
   "execution_count": 5,
   "metadata": {},
   "outputs": [
    {
     "name": "stdout",
     "output_type": "stream",
     "text": [
      "0 Home (g)\n",
      "1 CreateProfile (g)\n",
      "2 Match (g)\n",
      "3 MatchRequests (g)\n",
      "4 EditProfile (g)\n"
     ]
    }
   ],
   "source": [
    "project = page.Project(test_path, pages, schema_path, actions_path)\n",
    "project.print_pages_menu()"
   ]
  },
  {
   "cell_type": "code",
   "execution_count": 6,
   "metadata": {},
   "outputs": [
    {
     "name": "stdout",
     "output_type": "stream",
     "text": [
      "MatchRequests (g)\n",
      "(0) Header (g) (s)\n",
      "(1) IncomingRequestList (g) (ns)\n",
      "(2) OutgoingRequestList (g) (ns)\n",
      "(3) MatchRequestCard (g) (ns)\n",
      "(4) Footer (g) (s)\n"
     ]
    }
   ],
   "source": [
    "project.print_page_menu(3)"
   ]
  },
  {
   "cell_type": "code",
   "execution_count": null,
   "metadata": {},
   "outputs": [],
   "source": [
    "project.edit_component(3, 2, \"If there are no outgoing requests, indicate that there are no outgoing requests\") "
   ]
  },
  {
   "cell_type": "code",
   "execution_count": 13,
   "metadata": {},
   "outputs": [],
   "source": [
    "project.add_to_knowledge_base(2, 2)"
   ]
  }
 ],
 "metadata": {
  "kernelspec": {
   "display_name": "Python 3 (ipykernel)",
   "language": "python",
   "name": "python3"
  },
  "language_info": {
   "codemirror_mode": {
    "name": "ipython",
    "version": 3
   },
   "file_extension": ".py",
   "mimetype": "text/x-python",
   "name": "python",
   "nbconvert_exporter": "python",
   "pygments_lexer": "ipython3",
   "version": "3.10.9"
  }
 },
 "nbformat": 4,
 "nbformat_minor": 4
}
